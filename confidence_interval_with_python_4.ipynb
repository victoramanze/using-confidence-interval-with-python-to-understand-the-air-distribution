{
  "nbformat": 4,
  "nbformat_minor": 0,
  "metadata": {
    "colab": {
      "provenance": []
    },
    "kernelspec": {
      "name": "python3",
      "display_name": "Python 3"
    },
    "language_info": {
      "name": "python"
    }
  },
  "cells": [
    {
      "cell_type": "markdown",
      "source": [
        "The Air Quality Index (AQI) is the Environmental Protection Agency's index for reporting air quality. A value close to 0 signals little to no public health concern, while higher values are associated with increased risk to public health. The United States is considering a new federal policy that would create a subsidy for renewable energy in states observing an average AQI of 10 or above.\n",
        "\n",
        "You've just started your new role as a data analyst in the Strategy division of Ripple Renewable Energy (RRE). RRE operates in the following U.S. states: California, Florida, Michigan, Ohio, Pennsylvania, Texas. You've been tasked with constructing an analysis which identifies which of these states are most likely to be affected, should the new federal policy be enacted.\n",
        "\n",
        "Your manager has requested that you do the following for your analysis:\n",
        "\n",
        "Provide a summary of the mean AQI for the states in which RRE operates.\n",
        "Construct a boxplot visualization for AQI of these states using seaborn.\n",
        "Evaluate which state(s) may be most affected by this policy, based on the data and your boxplot visualization.\n",
        "Construct a confidence interval for the RRE state with the highest mean AQI."
      ],
      "metadata": {
        "id": "C7vm8DG7XBKl"
      }
    },
    {
      "cell_type": "code",
      "source": [
        "import pandas as pd\n",
        "import numpy as np"
      ],
      "metadata": {
        "id": "0C79g_4nXk6m"
      },
      "execution_count": null,
      "outputs": []
    },
    {
      "cell_type": "code",
      "source": [
        "pd.read_csv(\"c4 epa air dataset.csv\")"
      ],
      "metadata": {
        "colab": {
          "base_uri": "https://localhost:8080/",
          "height": 609
        },
        "id": "yxsaMIVnXmLh",
        "outputId": "e7ede3ad-eaf2-487a-d14d-99794f0270a7"
      },
      "execution_count": null,
      "outputs": [
        {
          "output_type": "execute_result",
          "data": {
            "text/plain": [
              "     Unnamed: 0  date_local            state_name           county_name  \\\n",
              "0             0  2018-01-01               Arizona              Maricopa   \n",
              "1             1  2018-01-01                  Ohio               Belmont   \n",
              "2             2  2018-01-01               Wyoming                 Teton   \n",
              "3             3  2018-01-01          Pennsylvania          Philadelphia   \n",
              "4             4  2018-01-01                  Iowa                  Polk   \n",
              "..          ...         ...                   ...                   ...   \n",
              "255         255  2018-01-01  District Of Columbia  District of Columbia   \n",
              "256         256  2018-01-01             Wisconsin                 Dodge   \n",
              "257         257  2018-01-01              Kentucky             Jefferson   \n",
              "258         258  2018-01-01              Nebraska               Douglas   \n",
              "259         259  2018-01-01        North Carolina                  Wake   \n",
              "\n",
              "         city_name                                    local_site_name  \\\n",
              "0          Buckeye                                            BUCKEYE   \n",
              "1        Shadyside                                          Shadyside   \n",
              "2    Not in a city  Yellowstone National Park - Old Faithful Snow ...   \n",
              "3     Philadelphia                             North East Waste (NEW)   \n",
              "4       Des Moines                                          CARPENTER   \n",
              "..             ...                                                ...   \n",
              "255     Washington                                          Near Road   \n",
              "256       Kekoskee                              HORICON WILDLIFE AREA   \n",
              "257     Louisville                                       CANNONS LANE   \n",
              "258          Omaha                                                NaN   \n",
              "259  Not in a city                                         Triple Oak   \n",
              "\n",
              "      parameter_name   units_of_measure  arithmetic_mean  aqi  \n",
              "0    Carbon monoxide  Parts per million         0.473684    7  \n",
              "1    Carbon monoxide  Parts per million         0.263158    5  \n",
              "2    Carbon monoxide  Parts per million         0.111111    2  \n",
              "3    Carbon monoxide  Parts per million         0.300000    3  \n",
              "4    Carbon monoxide  Parts per million         0.215789    3  \n",
              "..               ...                ...              ...  ...  \n",
              "255  Carbon monoxide  Parts per million         0.244444    3  \n",
              "256  Carbon monoxide  Parts per million         0.200000    2  \n",
              "257  Carbon monoxide  Parts per million         0.163158    2  \n",
              "258  Carbon monoxide  Parts per million         0.421053    9  \n",
              "259  Carbon monoxide  Parts per million         0.188889    2  \n",
              "\n",
              "[260 rows x 10 columns]"
            ],
            "text/html": [
              "\n",
              "  <div id=\"df-85e928b6-1597-4e74-8bcc-f4381d4ed16b\">\n",
              "    <div class=\"colab-df-container\">\n",
              "      <div>\n",
              "<style scoped>\n",
              "    .dataframe tbody tr th:only-of-type {\n",
              "        vertical-align: middle;\n",
              "    }\n",
              "\n",
              "    .dataframe tbody tr th {\n",
              "        vertical-align: top;\n",
              "    }\n",
              "\n",
              "    .dataframe thead th {\n",
              "        text-align: right;\n",
              "    }\n",
              "</style>\n",
              "<table border=\"1\" class=\"dataframe\">\n",
              "  <thead>\n",
              "    <tr style=\"text-align: right;\">\n",
              "      <th></th>\n",
              "      <th>Unnamed: 0</th>\n",
              "      <th>date_local</th>\n",
              "      <th>state_name</th>\n",
              "      <th>county_name</th>\n",
              "      <th>city_name</th>\n",
              "      <th>local_site_name</th>\n",
              "      <th>parameter_name</th>\n",
              "      <th>units_of_measure</th>\n",
              "      <th>arithmetic_mean</th>\n",
              "      <th>aqi</th>\n",
              "    </tr>\n",
              "  </thead>\n",
              "  <tbody>\n",
              "    <tr>\n",
              "      <th>0</th>\n",
              "      <td>0</td>\n",
              "      <td>2018-01-01</td>\n",
              "      <td>Arizona</td>\n",
              "      <td>Maricopa</td>\n",
              "      <td>Buckeye</td>\n",
              "      <td>BUCKEYE</td>\n",
              "      <td>Carbon monoxide</td>\n",
              "      <td>Parts per million</td>\n",
              "      <td>0.473684</td>\n",
              "      <td>7</td>\n",
              "    </tr>\n",
              "    <tr>\n",
              "      <th>1</th>\n",
              "      <td>1</td>\n",
              "      <td>2018-01-01</td>\n",
              "      <td>Ohio</td>\n",
              "      <td>Belmont</td>\n",
              "      <td>Shadyside</td>\n",
              "      <td>Shadyside</td>\n",
              "      <td>Carbon monoxide</td>\n",
              "      <td>Parts per million</td>\n",
              "      <td>0.263158</td>\n",
              "      <td>5</td>\n",
              "    </tr>\n",
              "    <tr>\n",
              "      <th>2</th>\n",
              "      <td>2</td>\n",
              "      <td>2018-01-01</td>\n",
              "      <td>Wyoming</td>\n",
              "      <td>Teton</td>\n",
              "      <td>Not in a city</td>\n",
              "      <td>Yellowstone National Park - Old Faithful Snow ...</td>\n",
              "      <td>Carbon monoxide</td>\n",
              "      <td>Parts per million</td>\n",
              "      <td>0.111111</td>\n",
              "      <td>2</td>\n",
              "    </tr>\n",
              "    <tr>\n",
              "      <th>3</th>\n",
              "      <td>3</td>\n",
              "      <td>2018-01-01</td>\n",
              "      <td>Pennsylvania</td>\n",
              "      <td>Philadelphia</td>\n",
              "      <td>Philadelphia</td>\n",
              "      <td>North East Waste (NEW)</td>\n",
              "      <td>Carbon monoxide</td>\n",
              "      <td>Parts per million</td>\n",
              "      <td>0.300000</td>\n",
              "      <td>3</td>\n",
              "    </tr>\n",
              "    <tr>\n",
              "      <th>4</th>\n",
              "      <td>4</td>\n",
              "      <td>2018-01-01</td>\n",
              "      <td>Iowa</td>\n",
              "      <td>Polk</td>\n",
              "      <td>Des Moines</td>\n",
              "      <td>CARPENTER</td>\n",
              "      <td>Carbon monoxide</td>\n",
              "      <td>Parts per million</td>\n",
              "      <td>0.215789</td>\n",
              "      <td>3</td>\n",
              "    </tr>\n",
              "    <tr>\n",
              "      <th>...</th>\n",
              "      <td>...</td>\n",
              "      <td>...</td>\n",
              "      <td>...</td>\n",
              "      <td>...</td>\n",
              "      <td>...</td>\n",
              "      <td>...</td>\n",
              "      <td>...</td>\n",
              "      <td>...</td>\n",
              "      <td>...</td>\n",
              "      <td>...</td>\n",
              "    </tr>\n",
              "    <tr>\n",
              "      <th>255</th>\n",
              "      <td>255</td>\n",
              "      <td>2018-01-01</td>\n",
              "      <td>District Of Columbia</td>\n",
              "      <td>District of Columbia</td>\n",
              "      <td>Washington</td>\n",
              "      <td>Near Road</td>\n",
              "      <td>Carbon monoxide</td>\n",
              "      <td>Parts per million</td>\n",
              "      <td>0.244444</td>\n",
              "      <td>3</td>\n",
              "    </tr>\n",
              "    <tr>\n",
              "      <th>256</th>\n",
              "      <td>256</td>\n",
              "      <td>2018-01-01</td>\n",
              "      <td>Wisconsin</td>\n",
              "      <td>Dodge</td>\n",
              "      <td>Kekoskee</td>\n",
              "      <td>HORICON WILDLIFE AREA</td>\n",
              "      <td>Carbon monoxide</td>\n",
              "      <td>Parts per million</td>\n",
              "      <td>0.200000</td>\n",
              "      <td>2</td>\n",
              "    </tr>\n",
              "    <tr>\n",
              "      <th>257</th>\n",
              "      <td>257</td>\n",
              "      <td>2018-01-01</td>\n",
              "      <td>Kentucky</td>\n",
              "      <td>Jefferson</td>\n",
              "      <td>Louisville</td>\n",
              "      <td>CANNONS LANE</td>\n",
              "      <td>Carbon monoxide</td>\n",
              "      <td>Parts per million</td>\n",
              "      <td>0.163158</td>\n",
              "      <td>2</td>\n",
              "    </tr>\n",
              "    <tr>\n",
              "      <th>258</th>\n",
              "      <td>258</td>\n",
              "      <td>2018-01-01</td>\n",
              "      <td>Nebraska</td>\n",
              "      <td>Douglas</td>\n",
              "      <td>Omaha</td>\n",
              "      <td>NaN</td>\n",
              "      <td>Carbon monoxide</td>\n",
              "      <td>Parts per million</td>\n",
              "      <td>0.421053</td>\n",
              "      <td>9</td>\n",
              "    </tr>\n",
              "    <tr>\n",
              "      <th>259</th>\n",
              "      <td>259</td>\n",
              "      <td>2018-01-01</td>\n",
              "      <td>North Carolina</td>\n",
              "      <td>Wake</td>\n",
              "      <td>Not in a city</td>\n",
              "      <td>Triple Oak</td>\n",
              "      <td>Carbon monoxide</td>\n",
              "      <td>Parts per million</td>\n",
              "      <td>0.188889</td>\n",
              "      <td>2</td>\n",
              "    </tr>\n",
              "  </tbody>\n",
              "</table>\n",
              "<p>260 rows × 10 columns</p>\n",
              "</div>\n",
              "      <button class=\"colab-df-convert\" onclick=\"convertToInteractive('df-85e928b6-1597-4e74-8bcc-f4381d4ed16b')\"\n",
              "              title=\"Convert this dataframe to an interactive table.\"\n",
              "              style=\"display:none;\">\n",
              "        \n",
              "  <svg xmlns=\"http://www.w3.org/2000/svg\" height=\"24px\"viewBox=\"0 0 24 24\"\n",
              "       width=\"24px\">\n",
              "    <path d=\"M0 0h24v24H0V0z\" fill=\"none\"/>\n",
              "    <path d=\"M18.56 5.44l.94 2.06.94-2.06 2.06-.94-2.06-.94-.94-2.06-.94 2.06-2.06.94zm-11 1L8.5 8.5l.94-2.06 2.06-.94-2.06-.94L8.5 2.5l-.94 2.06-2.06.94zm10 10l.94 2.06.94-2.06 2.06-.94-2.06-.94-.94-2.06-.94 2.06-2.06.94z\"/><path d=\"M17.41 7.96l-1.37-1.37c-.4-.4-.92-.59-1.43-.59-.52 0-1.04.2-1.43.59L10.3 9.45l-7.72 7.72c-.78.78-.78 2.05 0 2.83L4 21.41c.39.39.9.59 1.41.59.51 0 1.02-.2 1.41-.59l7.78-7.78 2.81-2.81c.8-.78.8-2.07 0-2.86zM5.41 20L4 18.59l7.72-7.72 1.47 1.35L5.41 20z\"/>\n",
              "  </svg>\n",
              "      </button>\n",
              "      \n",
              "  <style>\n",
              "    .colab-df-container {\n",
              "      display:flex;\n",
              "      flex-wrap:wrap;\n",
              "      gap: 12px;\n",
              "    }\n",
              "\n",
              "    .colab-df-convert {\n",
              "      background-color: #E8F0FE;\n",
              "      border: none;\n",
              "      border-radius: 50%;\n",
              "      cursor: pointer;\n",
              "      display: none;\n",
              "      fill: #1967D2;\n",
              "      height: 32px;\n",
              "      padding: 0 0 0 0;\n",
              "      width: 32px;\n",
              "    }\n",
              "\n",
              "    .colab-df-convert:hover {\n",
              "      background-color: #E2EBFA;\n",
              "      box-shadow: 0px 1px 2px rgba(60, 64, 67, 0.3), 0px 1px 3px 1px rgba(60, 64, 67, 0.15);\n",
              "      fill: #174EA6;\n",
              "    }\n",
              "\n",
              "    [theme=dark] .colab-df-convert {\n",
              "      background-color: #3B4455;\n",
              "      fill: #D2E3FC;\n",
              "    }\n",
              "\n",
              "    [theme=dark] .colab-df-convert:hover {\n",
              "      background-color: #434B5C;\n",
              "      box-shadow: 0px 1px 3px 1px rgba(0, 0, 0, 0.15);\n",
              "      filter: drop-shadow(0px 1px 2px rgba(0, 0, 0, 0.3));\n",
              "      fill: #FFFFFF;\n",
              "    }\n",
              "  </style>\n",
              "\n",
              "      <script>\n",
              "        const buttonEl =\n",
              "          document.querySelector('#df-85e928b6-1597-4e74-8bcc-f4381d4ed16b button.colab-df-convert');\n",
              "        buttonEl.style.display =\n",
              "          google.colab.kernel.accessAllowed ? 'block' : 'none';\n",
              "\n",
              "        async function convertToInteractive(key) {\n",
              "          const element = document.querySelector('#df-85e928b6-1597-4e74-8bcc-f4381d4ed16b');\n",
              "          const dataTable =\n",
              "            await google.colab.kernel.invokeFunction('convertToInteractive',\n",
              "                                                     [key], {});\n",
              "          if (!dataTable) return;\n",
              "\n",
              "          const docLinkHtml = 'Like what you see? Visit the ' +\n",
              "            '<a target=\"_blank\" href=https://colab.research.google.com/notebooks/data_table.ipynb>data table notebook</a>'\n",
              "            + ' to learn more about interactive tables.';\n",
              "          element.innerHTML = '';\n",
              "          dataTable['output_type'] = 'display_data';\n",
              "          await google.colab.output.renderOutput(dataTable, element);\n",
              "          const docLink = document.createElement('div');\n",
              "          docLink.innerHTML = docLinkHtml;\n",
              "          element.appendChild(docLink);\n",
              "        }\n",
              "      </script>\n",
              "    </div>\n",
              "  </div>\n",
              "  "
            ]
          },
          "metadata": {},
          "execution_count": 6
        }
      ]
    },
    {
      "cell_type": "code",
      "source": [
        "ads = pd.read_csv(\"c4 epa air dataset.csv\")"
      ],
      "metadata": {
        "id": "fxqOPYTvYcSl"
      },
      "execution_count": null,
      "outputs": []
    },
    {
      "cell_type": "markdown",
      "source": [
        "now let us spend some time exploring the dataframe"
      ],
      "metadata": {
        "id": "9OOSdT-9Y9Su"
      }
    },
    {
      "cell_type": "code",
      "source": [
        "print(ads.describe(include='all'))"
      ],
      "metadata": {
        "colab": {
          "base_uri": "https://localhost:8080/"
        },
        "id": "BDfSPmYOY5X6",
        "outputId": "00d41338-4911-4a58-f50f-80673b481d2f"
      },
      "execution_count": null,
      "outputs": [
        {
          "output_type": "stream",
          "name": "stdout",
          "text": [
            "        Unnamed: 0  date_local  state_name  county_name      city_name  \\\n",
            "count   260.000000         260         260          260            260   \n",
            "unique         NaN           1          52          149            190   \n",
            "top            NaN  2018-01-01  California  Los Angeles  Not in a city   \n",
            "freq           NaN         260          66           14             21   \n",
            "mean    129.500000         NaN         NaN          NaN            NaN   \n",
            "std      75.199734         NaN         NaN          NaN            NaN   \n",
            "min       0.000000         NaN         NaN          NaN            NaN   \n",
            "25%      64.750000         NaN         NaN          NaN            NaN   \n",
            "50%     129.500000         NaN         NaN          NaN            NaN   \n",
            "75%     194.250000         NaN         NaN          NaN            NaN   \n",
            "max     259.000000         NaN         NaN          NaN            NaN   \n",
            "\n",
            "       local_site_name   parameter_name   units_of_measure  arithmetic_mean  \\\n",
            "count              257              260                260       260.000000   \n",
            "unique             253                1                  1              NaN   \n",
            "top            Kapolei  Carbon monoxide  Parts per million              NaN   \n",
            "freq                 2              260                260              NaN   \n",
            "mean               NaN              NaN                NaN         0.403169   \n",
            "std                NaN              NaN                NaN         0.317902   \n",
            "min                NaN              NaN                NaN         0.000000   \n",
            "25%                NaN              NaN                NaN         0.200000   \n",
            "50%                NaN              NaN                NaN         0.276315   \n",
            "75%                NaN              NaN                NaN         0.516009   \n",
            "max                NaN              NaN                NaN         1.921053   \n",
            "\n",
            "               aqi  \n",
            "count   260.000000  \n",
            "unique         NaN  \n",
            "top            NaN  \n",
            "freq           NaN  \n",
            "mean      6.757692  \n",
            "std       7.061707  \n",
            "min       0.000000  \n",
            "25%       2.000000  \n",
            "50%       5.000000  \n",
            "75%       9.000000  \n",
            "max      50.000000  \n"
          ]
        }
      ]
    },
    {
      "cell_type": "markdown",
      "source": [
        "now let us observe the states .let us use the values_counts()\")"
      ],
      "metadata": {
        "id": "vdiFEjtYZjai"
      }
    },
    {
      "cell_type": "code",
      "source": [
        "print(ads['state_name'].value_counts())"
      ],
      "metadata": {
        "colab": {
          "base_uri": "https://localhost:8080/"
        },
        "id": "RDHEKc2rZsXC",
        "outputId": "d93a53fa-c417-4259-c214-63dd3e0c5d2d"
      },
      "execution_count": null,
      "outputs": [
        {
          "output_type": "stream",
          "name": "stdout",
          "text": [
            "California              66\n",
            "Arizona                 14\n",
            "Ohio                    12\n",
            "Florida                 12\n",
            "Texas                   10\n",
            "New York                10\n",
            "Pennsylvania            10\n",
            "Michigan                 9\n",
            "Colorado                 9\n",
            "Minnesota                7\n",
            "New Jersey               6\n",
            "Indiana                  5\n",
            "North Carolina           4\n",
            "Massachusetts            4\n",
            "Maryland                 4\n",
            "Oklahoma                 4\n",
            "Virginia                 4\n",
            "Nevada                   4\n",
            "Connecticut              4\n",
            "Kentucky                 3\n",
            "Missouri                 3\n",
            "Wyoming                  3\n",
            "Iowa                     3\n",
            "Hawaii                   3\n",
            "Utah                     3\n",
            "Vermont                  3\n",
            "Illinois                 3\n",
            "New Hampshire            2\n",
            "District Of Columbia     2\n",
            "New Mexico               2\n",
            "Montana                  2\n",
            "Oregon                   2\n",
            "Alaska                   2\n",
            "Georgia                  2\n",
            "Washington               2\n",
            "Idaho                    2\n",
            "Nebraska                 2\n",
            "Rhode Island             2\n",
            "Tennessee                2\n",
            "Maine                    2\n",
            "South Carolina           1\n",
            "Puerto Rico              1\n",
            "Arkansas                 1\n",
            "Kansas                   1\n",
            "Mississippi              1\n",
            "Alabama                  1\n",
            "Louisiana                1\n",
            "Delaware                 1\n",
            "South Dakota             1\n",
            "West Virginia            1\n",
            "North Dakota             1\n",
            "Wisconsin                1\n",
            "Name: state_name, dtype: int64\n"
          ]
        }
      ]
    },
    {
      "cell_type": "markdown",
      "source": [
        "# Question: What time range does this data cover?\n",
        "\n",
        "All of the sites collected data on January 1st, 2018.\n",
        "\n",
        "# Question: What are the minimum and maximum AQI values observed in the dataset?\n",
        "\n",
        "The minimum AQI value is 0 and the maximum AQI value is 50.\n",
        "\n",
        "# Question: Are all states equally represented in the dataset?\n",
        "\n",
        "No, all states are not equally represented. California has 66 sites that reported AQI for this dataset, while states such as Delaware and Alabama have only one site that reported AQI."
      ],
      "metadata": {
        "id": "fVT9kO0LZ958"
      }
    },
    {
      "cell_type": "markdown",
      "source": [
        "Start with your first deliverable. Summarize the mean AQI for the states in which RRE operates."
      ],
      "metadata": {
        "id": "yAjNwEVKas-Y"
      }
    },
    {
      "cell_type": "code",
      "source": [
        "rre_states = ['California','Florida','Michigan','Ohio','Pennsylvania','Texas']"
      ],
      "metadata": {
        "id": "QpjvSjcCaKpS"
      },
      "execution_count": null,
      "outputs": []
    },
    {
      "cell_type": "code",
      "source": [
        "ads_rre = ads[ads['state_name'].isin(rre_states)]"
      ],
      "metadata": {
        "id": "ph1EybWqakMp"
      },
      "execution_count": null,
      "outputs": []
    },
    {
      "cell_type": "markdown",
      "source": [
        "Seaborn is a simple visualization library, commonly imported as sns. Import seaborn below, then utilize a boxplot visualization from this library to compare the distributions of AQI scores by state."
      ],
      "metadata": {
        "id": "pFvNI5P0ayVV"
      }
    },
    {
      "cell_type": "code",
      "source": [
        "import seaborn as sns"
      ],
      "metadata": {
        "id": "G2znE9J6azPX"
      },
      "execution_count": null,
      "outputs": []
    },
    {
      "cell_type": "code",
      "source": [
        "sns.boxplot(x=ads_rre[\"state_name\"],y=ads_rre[\"aqi\"])"
      ],
      "metadata": {
        "colab": {
          "base_uri": "https://localhost:8080/",
          "height": 466
        },
        "id": "SqO835GMbH60",
        "outputId": "f527bba1-a04f-4971-f1d2-e0013c9c8a1e"
      },
      "execution_count": null,
      "outputs": [
        {
          "output_type": "execute_result",
          "data": {
            "text/plain": [
              "<Axes: xlabel='state_name', ylabel='aqi'>"
            ]
          },
          "metadata": {},
          "execution_count": 15
        },
        {
          "output_type": "display_data",
          "data": {
            "text/plain": [
              "<Figure size 640x480 with 1 Axes>"
            ],
            "image/png": "[encoded data removed]"
          },
          "metadata": {}
        }
      ]
    },
    {
      "cell_type": "markdown",
      "source": [
        " Based on the data and your visualizations, which state(s) do you suspect will be most affected by this policy?\n",
        "\n",
        "California: The mean and a signficant portion of the boxplot range over 10.\n",
        "Michigan: While the mean is below 10, the boxplot ranges above 10."
      ],
      "metadata": {
        "id": "abbH0tb6bYyX"
      }
    },
    {
      "cell_type": "markdown",
      "source": [
        "Construct a confidence interval for the RRE state with the highest mean AQI\n",
        "Recall the four-step process for constructing a confidence interval:\n",
        "\n",
        "Identify a sample statistic.\n",
        "\n",
        "Choose a confidence level.\n",
        "\n",
        "Find the margin of error.\n",
        "\n",
        "Calculate the interval."
      ],
      "metadata": {
        "id": "2KrovMBFcToO"
      }
    },
    {
      "cell_type": "markdown",
      "source": [
        "now let us construct our sample statistics"
      ],
      "metadata": {
        "id": "z2_0CCOAcZPA"
      }
    },
    {
      "cell_type": "code",
      "source": [
        "aqi_ca = ads[ads['state_name']=='California']\n"
      ],
      "metadata": {
        "id": "pHJXLcAphPXe"
      },
      "execution_count": null,
      "outputs": []
    },
    {
      "cell_type": "code",
      "source": [
        "sample_mean = aqi_ca['aqi'].mean()\n",
        "sample_mean"
      ],
      "metadata": {
        "colab": {
          "base_uri": "https://localhost:8080/"
        },
        "id": "3LVfvohghlgi",
        "outputId": "acc1e9d8-7188-44ce-8998-a653980a5d4b"
      },
      "execution_count": null,
      "outputs": [
        {
          "output_type": "execute_result",
          "data": {
            "text/plain": [
              "12.121212121212121"
            ]
          },
          "metadata": {},
          "execution_count": 41
        }
      ]
    },
    {
      "cell_type": "markdown",
      "source": [
        "# Choose your confidence level\n",
        "Choose your confidence level for your analysis. The most typical confidence level chosen is 95%; however, you can choose 90% or 99% if you want decrease or increase (respectively) your level of confidence about your result."
      ],
      "metadata": {
        "id": "sCivjsuyhvGG"
      }
    },
    {
      "cell_type": "code",
      "source": [
        "confidence_level = 0.95\n",
        "confidence_level"
      ],
      "metadata": {
        "colab": {
          "base_uri": "https://localhost:8080/"
        },
        "id": "NcK5QZsvhxr7",
        "outputId": "6ecb7261-206b-4ce2-c9b3-333e90c472fa"
      },
      "execution_count": null,
      "outputs": [
        {
          "output_type": "execute_result",
          "data": {
            "text/plain": [
              "0.95"
            ]
          },
          "metadata": {},
          "execution_count": 42
        }
      ]
    },
    {
      "cell_type": "markdown",
      "source": [
        "# Find your margin of error (ME)\n",
        "Recall margin of error = z * standard error, where z is the appropriate z-value for the given confidence level. To calculate your margin of error:\n",
        "\n",
        "Find your z-value.\n",
        "\n",
        "Find the approximate z for common confidence levels.\n",
        "\n",
        "Calculate your standard error estimate.\n",
        "\n",
        "\n",
        "\n",
        "Confidence  Level\tZ\n",
        "\n",
        "\n",
        "\n",
        "90%\n",
        "\t  1.65\n",
        "95%\n",
        " \t1.96\n",
        "99%\n",
        " \t2.58\n"
      ],
      "metadata": {
        "id": "qLFbGuuqh6v_"
      }
    },
    {
      "cell_type": "markdown",
      "source": [
        "# Begin by identifying the z associated with your chosen confidence level."
      ],
      "metadata": {
        "id": "oEeHCSIwja66"
      }
    },
    {
      "cell_type": "code",
      "source": [
        "z_value = 1.96"
      ],
      "metadata": {
        "id": "BEMOLE3th8-4"
      },
      "execution_count": null,
      "outputs": []
    },
    {
      "cell_type": "code",
      "source": [
        "standard_error = aqi_ca['aqi'].std() / np.sqrt(aqi_ca.shape[0])"
      ],
      "metadata": {
        "id": "3md-JA3di8Pu"
      },
      "execution_count": null,
      "outputs": []
    },
    {
      "cell_type": "code",
      "source": [
        "print(\"standard error:\")"
      ],
      "metadata": {
        "colab": {
          "base_uri": "https://localhost:8080/"
        },
        "id": "kLCbFC2vjBbR",
        "outputId": "2d69a925-a5d2-4a06-a55d-600a44b473c2"
      },
      "execution_count": null,
      "outputs": [
        {
          "output_type": "stream",
          "name": "stdout",
          "text": [
            "standard error:\n"
          ]
        }
      ]
    },
    {
      "cell_type": "code",
      "source": [
        "print(standard_error)"
      ],
      "metadata": {
        "colab": {
          "base_uri": "https://localhost:8080/"
        },
        "id": "JkpkLHAdjP5h",
        "outputId": "c7e2e657-efe9-4dbc-c0df-8958d1e614ff"
      },
      "execution_count": null,
      "outputs": [
        {
          "output_type": "stream",
          "name": "stdout",
          "text": [
            "0.8987209641127412\n"
          ]
        }
      ]
    },
    {
      "cell_type": "markdown",
      "source": [
        "now let us use the above calculation to find the margin of error"
      ],
      "metadata": {
        "id": "jj_UGyPwjqQ3"
      }
    },
    {
      "cell_type": "code",
      "source": [
        "margin_of_error = standard_error * z_value"
      ],
      "metadata": {
        "id": "MRreHsyCjTeG"
      },
      "execution_count": null,
      "outputs": []
    },
    {
      "cell_type": "code",
      "source": [
        "print(\"margin of error:\")\n",
        "print(margin_of_error)"
      ],
      "metadata": {
        "colab": {
          "base_uri": "https://localhost:8080/"
        },
        "id": "QH5BRav7j-2D",
        "outputId": "39bd7e73-8304-4c53-92e5-e5f380b83001"
      },
      "execution_count": null,
      "outputs": [
        {
          "output_type": "stream",
          "name": "stdout",
          "text": [
            "margin of error:\n",
            "1.7614930896609726\n"
          ]
        }
      ]
    },
    {
      "cell_type": "markdown",
      "source": [
        "# Calculate your interval\n",
        "Calculate both a lower and upper limit surrounding your sample mean to create your interval."
      ],
      "metadata": {
        "id": "mlfynnYMkHKw"
      }
    },
    {
      "cell_type": "code",
      "source": [
        "upper_ci_limit = sample_mean + margin_of_error\n",
        "lower_ci_limit = sample_mean - margin_of_error\n",
        "(lower_ci_limit, upper_ci_limit)"
      ],
      "metadata": {
        "colab": {
          "base_uri": "https://localhost:8080/"
        },
        "id": "BeGHovPNkJ5S",
        "outputId": "4a967c6c-60bf-4aff-fd5f-56c3f0fd2829"
      },
      "execution_count": null,
      "outputs": [
        {
          "output_type": "execute_result",
          "data": {
            "text/plain": [
              "(10.359719031551148, 13.882705210873095)"
            ]
          },
          "metadata": {},
          "execution_count": 49
        }
      ]
    },
    {
      "cell_type": "markdown",
      "source": [
        "# Alternative: Construct the interval using scipy.stats.norm.interval()\n",
        "scipy presents a simpler solution to developing a confidence interval. To use this, first import the stats module from scipy.\n",
        "\n"
      ],
      "metadata": {
        "id": "23bi0gRVkX3a"
      }
    },
    {
      "cell_type": "code",
      "source": [
        "from scipy import stats"
      ],
      "metadata": {
        "id": "DGDzOsuskaDD"
      },
      "execution_count": null,
      "outputs": []
    },
    {
      "cell_type": "code",
      "source": [
        "stats.norm.interval(alpha=confidence_level, loc=sample_mean, scale=standard_error)"
      ],
      "metadata": {
        "colab": {
          "base_uri": "https://localhost:8080/"
        },
        "id": "l2-PN_3Akl_a",
        "outputId": "f2145df9-e0a0-4c47-eb1f-3e365ab69676"
      },
      "execution_count": null,
      "outputs": [
        {
          "output_type": "stream",
          "name": "stderr",
          "text": [
            "<ipython-input-51-e12bc462ed8f>:1: DeprecationWarning: Use of keyword argument 'alpha' for method 'interval' is deprecated and wil be removed in SciPy 1.11.0. Use first positional argument or keyword argument 'confidence' instead.\n",
            "  stats.norm.interval(alpha=confidence_level, loc=sample_mean, scale=standard_error)\n"
          ]
        },
        {
          "output_type": "execute_result",
          "data": {
            "text/plain": [
              "(10.359751399400034, 13.882672843024208)"
            ]
          },
          "metadata": {},
          "execution_count": 51
        }
      ]
    },
    {
      "cell_type": "markdown",
      "source": [
        "# Considerations\n",
        "What are key takeaways from this lab?\n",
        "\n",
        "Based on the mean AQI for RRE states, California and Michigan were most likely to have experienced a mean AQI above 10.\n",
        "With California experiencing the highest sample mean AQI in the data, it appears to be the state most likely to be affected by the policy change.\n",
        "Constructing a confidence interval allowed you to estimate the sample mean AQI with a certain degree of confidence.\n",
        "# What findings would you share with others?\n",
        "\n",
        "Present this notebook to convey the analytical process and describe the methodology behind constructing the confidence interval.\n",
        "Convey that a confidence interval at the 95% level of confidence from this sample data yielded [10.36 , 13.88], which provides the interpretation \"given the observed sample AQI measurements, there is a 95% confidence that the population mean AQI for California was between 10.36 and 13.88. This range is notably greater than 10.\"\n",
        "Share how varying the confidence level changes the interval. For example, if you varied the confidence level to 99%, the confidence interval would become [9.80 , 14.43].\n",
        "# What would you convey to external stakeholders?\n",
        "\n",
        "Explain statistical significance at a high level.\n",
        "Describe California's observed mean AQI and suggest focusing on that state.\n",
        "Share the result of the 95% confidence interval, describing what this means relative to the threshold of 10.\n",
        "Convey any potential shortcomings of this analysis, such as the short time period being referenced."
      ],
      "metadata": {
        "id": "vojebUGBkqdj"
      }
    }
  ]
}